{
  "cells": [
    {
      "cell_type": "markdown",
      "metadata": {
        "id": "tPVWzroRfaG7"
      },
      "source": [
        "# Comparing Optimizers in TensorFlow ANN\n",
        "This notebook trains the same ANN model using different optimizers and compares their accuracy."
      ],
      "id": "tPVWzroRfaG7"
    },
    {
      "cell_type": "code",
      "metadata": {
        "colab": {
          "base_uri": "https://localhost:8080/"
        },
        "id": "TYj60CN3faG8",
        "outputId": "faf981f4-e1cd-4f2c-b7fe-05e280fceea6"
      },
      "execution_count": 3,
      "outputs": [
        {
          "output_type": "stream",
          "name": "stdout",
          "text": [
            "<class 'pandas.core.frame.DataFrame'>\n",
            "RangeIndex: 699 entries, 0 to 698\n",
            "Data columns (total 11 columns):\n",
            " #   Column       Non-Null Count  Dtype \n",
            "---  ------       --------------  ----- \n",
            " 0   ID           699 non-null    int64 \n",
            " 1   Clump        699 non-null    int64 \n",
            " 2   UnifSize     699 non-null    int64 \n",
            " 3   UnifShape    699 non-null    int64 \n",
            " 4   MargAdh      699 non-null    int64 \n",
            " 5   SingEpiSize  699 non-null    int64 \n",
            " 6   BareNuc      699 non-null    object\n",
            " 7   BlandChrom   699 non-null    int64 \n",
            " 8   NormNucl     699 non-null    int64 \n",
            " 9   Mit          699 non-null    int64 \n",
            " 10  Temp Class   699 non-null    int64 \n",
            "dtypes: int64(10), object(1)\n",
            "memory usage: 60.2+ KB\n",
            "        ID  Clump  UnifSize  UnifShape  MargAdh  SingEpiSize BareNuc  \\\n",
            "0  1000025      5         1          1        1            2       1   \n",
            "1  1002945      5         4          4        5            7      10   \n",
            "2  1015425      3         1          1        1            2       2   \n",
            "3  1016277      6         8          8        1            3       4   \n",
            "4  1017023      4         1          1        3            2       1   \n",
            "\n",
            "   BlandChrom  NormNucl  Mit  Temp Class  \n",
            "0           3         1    1           0  \n",
            "1           3         2    1           0  \n",
            "2           3         1    1           0  \n",
            "3           3         7    1           0  \n",
            "4           3         1    1           0  \n"
          ]
        },
        {
          "output_type": "stream",
          "name": "stderr",
          "text": [
            "/usr/local/lib/python3.11/dist-packages/keras/src/layers/core/dense.py:87: UserWarning: Do not pass an `input_shape`/`input_dim` argument to a layer. When using Sequential models, prefer using an `Input(shape)` object as the first layer in the model instead.\n",
            "  super().__init__(activity_regularizer=activity_regularizer, **kwargs)\n"
          ]
        },
        {
          "output_type": "stream",
          "name": "stdout",
          "text": [
            "\u001b[1m7/7\u001b[0m \u001b[32m━━━━━━━━━━━━━━━━━━━━\u001b[0m\u001b[37m\u001b[0m \u001b[1m0s\u001b[0m 9ms/step \n",
            "\n",
            "SGD Optimizer\n",
            "Confusion Matrix:\n",
            " [[125   5]\n",
            " [  5  70]]\n",
            "Accuracy Score: 0.9512195121951219\n"
          ]
        },
        {
          "output_type": "stream",
          "name": "stderr",
          "text": [
            "/usr/local/lib/python3.11/dist-packages/keras/src/layers/core/dense.py:87: UserWarning: Do not pass an `input_shape`/`input_dim` argument to a layer. When using Sequential models, prefer using an `Input(shape)` object as the first layer in the model instead.\n",
            "  super().__init__(activity_regularizer=activity_regularizer, **kwargs)\n"
          ]
        },
        {
          "output_type": "stream",
          "name": "stdout",
          "text": [
            "\u001b[1m7/7\u001b[0m \u001b[32m━━━━━━━━━━━━━━━━━━━━\u001b[0m\u001b[37m\u001b[0m \u001b[1m0s\u001b[0m 9ms/step \n",
            "\n",
            "RMSprop Optimizer\n",
            "Confusion Matrix:\n",
            " [[125   5]\n",
            " [  3  72]]\n",
            "Accuracy Score: 0.9609756097560975\n"
          ]
        },
        {
          "output_type": "stream",
          "name": "stderr",
          "text": [
            "/usr/local/lib/python3.11/dist-packages/keras/src/layers/core/dense.py:87: UserWarning: Do not pass an `input_shape`/`input_dim` argument to a layer. When using Sequential models, prefer using an `Input(shape)` object as the first layer in the model instead.\n",
            "  super().__init__(activity_regularizer=activity_regularizer, **kwargs)\n"
          ]
        },
        {
          "output_type": "stream",
          "name": "stdout",
          "text": [
            "\u001b[1m7/7\u001b[0m \u001b[32m━━━━━━━━━━━━━━━━━━━━\u001b[0m\u001b[37m\u001b[0m \u001b[1m0s\u001b[0m 9ms/step \n",
            "\n",
            "Adagrad Optimizer\n",
            "Confusion Matrix:\n",
            " [[121   9]\n",
            " [  7  68]]\n",
            "Accuracy Score: 0.9219512195121952\n"
          ]
        },
        {
          "output_type": "stream",
          "name": "stderr",
          "text": [
            "/usr/local/lib/python3.11/dist-packages/keras/src/layers/core/dense.py:87: UserWarning: Do not pass an `input_shape`/`input_dim` argument to a layer. When using Sequential models, prefer using an `Input(shape)` object as the first layer in the model instead.\n",
            "  super().__init__(activity_regularizer=activity_regularizer, **kwargs)\n"
          ]
        },
        {
          "output_type": "stream",
          "name": "stdout",
          "text": [
            "\u001b[1m7/7\u001b[0m \u001b[32m━━━━━━━━━━━━━━━━━━━━\u001b[0m\u001b[37m\u001b[0m \u001b[1m0s\u001b[0m 9ms/step \n",
            "\n",
            "Adadelta Optimizer\n",
            "Confusion Matrix:\n",
            " [[123   7]\n",
            " [ 46  29]]\n",
            "Accuracy Score: 0.7414634146341463\n"
          ]
        },
        {
          "output_type": "stream",
          "name": "stderr",
          "text": [
            "/usr/local/lib/python3.11/dist-packages/keras/src/layers/core/dense.py:87: UserWarning: Do not pass an `input_shape`/`input_dim` argument to a layer. When using Sequential models, prefer using an `Input(shape)` object as the first layer in the model instead.\n",
            "  super().__init__(activity_regularizer=activity_regularizer, **kwargs)\n"
          ]
        },
        {
          "output_type": "stream",
          "name": "stdout",
          "text": [
            "\u001b[1m7/7\u001b[0m \u001b[32m━━━━━━━━━━━━━━━━━━━━\u001b[0m\u001b[37m\u001b[0m \u001b[1m0s\u001b[0m 12ms/step\n",
            "\n",
            "Nadam Optimizer\n",
            "Confusion Matrix:\n",
            " [[126   4]\n",
            " [  5  70]]\n",
            "Accuracy Score: 0.9560975609756097\n"
          ]
        },
        {
          "output_type": "stream",
          "name": "stderr",
          "text": [
            "/usr/local/lib/python3.11/dist-packages/keras/src/layers/core/dense.py:87: UserWarning: Do not pass an `input_shape`/`input_dim` argument to a layer. When using Sequential models, prefer using an `Input(shape)` object as the first layer in the model instead.\n",
            "  super().__init__(activity_regularizer=activity_regularizer, **kwargs)\n"
          ]
        },
        {
          "output_type": "stream",
          "name": "stdout",
          "text": [
            "\u001b[1m7/7\u001b[0m \u001b[32m━━━━━━━━━━━━━━━━━━━━\u001b[0m\u001b[37m\u001b[0m \u001b[1m0s\u001b[0m 9ms/step \n",
            "\n",
            "FTRL Optimizer\n",
            "Confusion Matrix:\n",
            " [[130   0]\n",
            " [ 75   0]]\n",
            "Accuracy Score: 0.6341463414634146\n"
          ]
        },
        {
          "output_type": "stream",
          "name": "stderr",
          "text": [
            "/usr/local/lib/python3.11/dist-packages/keras/src/layers/core/dense.py:87: UserWarning: Do not pass an `input_shape`/`input_dim` argument to a layer. When using Sequential models, prefer using an `Input(shape)` object as the first layer in the model instead.\n",
            "  super().__init__(activity_regularizer=activity_regularizer, **kwargs)\n"
          ]
        },
        {
          "output_type": "stream",
          "name": "stdout",
          "text": [
            "\u001b[1m7/7\u001b[0m \u001b[32m━━━━━━━━━━━━━━━━━━━━\u001b[0m\u001b[37m\u001b[0m \u001b[1m0s\u001b[0m 9ms/step \n",
            "\n",
            "Adam Optimizer\n",
            "Confusion Matrix:\n",
            " [[126   4]\n",
            " [  4  71]]\n",
            "Accuracy Score: 0.9609756097560975\n",
            "\n",
            "Final Accuracy Table:\n",
            "  Optimizer  Accuracy (%)\n",
            "0   RMSprop     96.097561\n",
            "1      Adam     96.097561\n",
            "2     Nadam     95.609756\n",
            "3       SGD     95.121951\n",
            "4   Adagrad     92.195122\n",
            "5  Adadelta     74.146341\n",
            "6      FTRL     63.414634\n",
            "\u001b[1m1/1\u001b[0m \u001b[32m━━━━━━━━━━━━━━━━━━━━\u001b[0m\u001b[37m\u001b[0m \u001b[1m0s\u001b[0m 34ms/step\n",
            "\n",
            "Single Sample Prediction (Adam): [[False]]\n"
          ]
        }
      ],
      "source": [
        "import numpy as np\n",
        "import pandas as pd\n",
        "import tensorflow as tf\n",
        "import seaborn as sns\n",
        "import matplotlib.pyplot as plt\n",
        "from sklearn.preprocessing import LabelEncoder, StandardScaler\n",
        "from sklearn.model_selection import train_test_split\n",
        "from sklearn.metrics import confusion_matrix, accuracy_score\n",
        "\n",
        "# Load dataset\n",
        "dataset = pd.read_csv('/content/cell_data.csv')\n",
        "\n",
        "# Display dataset info\n",
        "dataset.info()\n",
        "print(dataset.head())\n",
        "\n",
        "# Replace '?' with NaN and drop missing values\n",
        "dataset.replace('?', np.nan, inplace=True)\n",
        "dataset.dropna(inplace=True)\n",
        "\n",
        "# Convert 'BareNuc' column to numeric\n",
        "dataset['BareNuc'] = dataset['BareNuc'].astype(int)\n",
        "\n",
        "# Rename 'Temp Class' column to 'Class' to avoid issues\n",
        "dataset.rename(columns={'Temp Class': 'Class'}, inplace=True)\n",
        "\n",
        "# Separate features and target variable\n",
        "X = dataset.iloc[:, 1:-1].values  # Exclude ID column and Class column\n",
        "y = dataset.iloc[:, -1].values  # Class column is the target\n",
        "\n",
        "# Encode target labels (assuming binary classification: 0 & 1)\n",
        "le = LabelEncoder()\n",
        "y = le.fit_transform(y)\n",
        "\n",
        "# Train-test split\n",
        "X_train, X_test, y_train, y_test = train_test_split(X, y, test_size=0.3, random_state=0)\n",
        "\n",
        "# Feature scaling\n",
        "sc = StandardScaler()\n",
        "X_train = sc.fit_transform(X_train)\n",
        "X_test = sc.transform(X_test)\n",
        "\n",
        "# Define optimizers to test\n",
        "optimizers = {\n",
        "    'SGD': tf.keras.optimizers.SGD(),\n",
        "    'RMSprop': tf.keras.optimizers.RMSprop(),\n",
        "    'Adagrad': tf.keras.optimizers.Adagrad(),\n",
        "    'Adadelta': tf.keras.optimizers.Adadelta(),\n",
        "    'Nadam': tf.keras.optimizers.Nadam(),\n",
        "    'FTRL': tf.keras.optimizers.Ftrl(),\n",
        "    'Adam': tf.keras.optimizers.Adam()\n",
        "}\n",
        "\n",
        "# Store results\n",
        "results = []\n",
        "\n",
        "for name, optimizer in optimizers.items():\n",
        "    # Initialize ANN\n",
        "    ann = tf.keras.models.Sequential()\n",
        "    ann.add(tf.keras.layers.Dense(units=6, activation='relu', input_shape=(X_train.shape[1],)))\n",
        "    ann.add(tf.keras.layers.Dense(units=6, activation='relu'))\n",
        "    ann.add(tf.keras.layers.Dense(units=1, activation='sigmoid'))\n",
        "\n",
        "    # Compile the ANN\n",
        "    ann.compile(optimizer=optimizer, loss='binary_crossentropy', metrics=['accuracy'])\n",
        "\n",
        "    # Train the ANN\n",
        "    ann.fit(X_train, y_train, batch_size=32, epochs=100, verbose=0)\n",
        "\n",
        "    # Make predictions\n",
        "    y_pred = (ann.predict(X_test) > 0.5)\n",
        "\n",
        "    # Evaluate model performance\n",
        "    acc = accuracy_score(y_test, y_pred)\n",
        "    print(f\"\\n{name} Optimizer\")\n",
        "    print(\"Confusion Matrix:\\n\", confusion_matrix(y_test, y_pred))\n",
        "    print(\"Accuracy Score:\", acc)\n",
        "\n",
        "    results.append((name, acc * 100))\n",
        "\n",
        "# Display all results as a DataFrame\n",
        "results_df = pd.DataFrame(results, columns=['Optimizer', 'Accuracy (%)'])\n",
        "print(\"\\nFinal Accuracy Table:\")\n",
        "print(results_df.sort_values(by='Accuracy (%)', ascending=False).reset_index(drop=True))\n",
        "\n",
        "# Predict a single sample (example input, should be replaced with real data)\n",
        "sample_input = sc.transform([[5, 1, 1, 1, 2, 1, 3, 1, 1]])\n",
        "print(\"\\nSingle Sample Prediction (Adam):\", ann.predict(sample_input) > 0.5)\n"
      ],
      "id": "TYj60CN3faG8"
    }
  ],
  "metadata": {
    "kernelspec": {
      "display_name": "Python 3",
      "language": "python",
      "name": "python3"
    },
    "language_info": {
      "name": "python",
      "version": "3.8"
    },
    "colab": {
      "provenance": []
    }
  },
  "nbformat": 4,
  "nbformat_minor": 5
}
